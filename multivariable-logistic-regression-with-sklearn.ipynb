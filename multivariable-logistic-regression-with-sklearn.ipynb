{
 "cells": [
  {
   "cell_type": "code",
   "execution_count": 1,
   "id": "9ff376ec",
   "metadata": {
    "_cell_guid": "b1076dfc-b9ad-4769-8c92-a6c4dae69d19",
    "_uuid": "8f2839f25d086af736a60e9eeb907d3b93b6e0e5",
    "execution": {
     "iopub.execute_input": "2024-07-22T11:08:05.942338Z",
     "iopub.status.busy": "2024-07-22T11:08:05.941882Z",
     "iopub.status.idle": "2024-07-22T11:08:07.004658Z",
     "shell.execute_reply": "2024-07-22T11:08:07.003177Z"
    },
    "papermill": {
     "duration": 1.074192,
     "end_time": "2024-07-22T11:08:07.007678",
     "exception": false,
     "start_time": "2024-07-22T11:08:05.933486",
     "status": "completed"
    },
    "tags": []
   },
   "outputs": [
    {
     "name": "stdout",
     "output_type": "stream",
     "text": [
      "/kaggle/input/titanic/train.csv\n",
      "/kaggle/input/titanic/test.csv\n",
      "/kaggle/input/titanic/gender_submission.csv\n"
     ]
    }
   ],
   "source": [
    "# This Python 3 environment comes with many helpful analytics libraries installed\n",
    "# It is defined by the kaggle/python Docker image: https://github.com/kaggle/docker-python\n",
    "# For example, here's several helpful packages to load\n",
    "\n",
    "import numpy as np # linear algebra\n",
    "import pandas as pd # data processing, CSV file I/O (e.g. pd.read_csv)\n",
    "\n",
    "# Input data files are available in the read-only \"../input/\" directory\n",
    "# For example, running this (by clicking run or pressing Shift+Enter) will list all files under the input directory\n",
    "\n",
    "import os\n",
    "for dirname, _, filenames in os.walk('/kaggle/input'):\n",
    "    for filename in filenames:\n",
    "        print(os.path.join(dirname, filename))\n",
    "\n",
    "# You can write up to 20GB to the current directory (/kaggle/working/) that gets preserved as output when you create a version using \"Save & Run All\" \n",
    "# You can also write temporary files to /kaggle/temp/, but they won't be saved outside of the current session"
   ]
  },
  {
   "cell_type": "code",
   "execution_count": 2,
   "id": "e2331adc",
   "metadata": {
    "execution": {
     "iopub.execute_input": "2024-07-22T11:08:07.023093Z",
     "iopub.status.busy": "2024-07-22T11:08:07.022034Z",
     "iopub.status.idle": "2024-07-22T11:08:07.047218Z",
     "shell.execute_reply": "2024-07-22T11:08:07.045964Z"
    },
    "papermill": {
     "duration": 0.036,
     "end_time": "2024-07-22T11:08:07.050309",
     "exception": false,
     "start_time": "2024-07-22T11:08:07.014309",
     "status": "completed"
    },
    "tags": []
   },
   "outputs": [],
   "source": [
    "train_data = pd.read_csv(\"/kaggle/input/titanic/train.csv\")"
   ]
  },
  {
   "cell_type": "code",
   "execution_count": 3,
   "id": "79c1fd16",
   "metadata": {
    "execution": {
     "iopub.execute_input": "2024-07-22T11:08:07.065285Z",
     "iopub.status.busy": "2024-07-22T11:08:07.064826Z",
     "iopub.status.idle": "2024-07-22T11:08:07.106788Z",
     "shell.execute_reply": "2024-07-22T11:08:07.105130Z"
    },
    "papermill": {
     "duration": 0.052587,
     "end_time": "2024-07-22T11:08:07.109461",
     "exception": false,
     "start_time": "2024-07-22T11:08:07.056874",
     "status": "completed"
    },
    "tags": []
   },
   "outputs": [
    {
     "data": {
      "text/html": [
       "<div>\n",
       "<style scoped>\n",
       "    .dataframe tbody tr th:only-of-type {\n",
       "        vertical-align: middle;\n",
       "    }\n",
       "\n",
       "    .dataframe tbody tr th {\n",
       "        vertical-align: top;\n",
       "    }\n",
       "\n",
       "    .dataframe thead th {\n",
       "        text-align: right;\n",
       "    }\n",
       "</style>\n",
       "<table border=\"1\" class=\"dataframe\">\n",
       "  <thead>\n",
       "    <tr style=\"text-align: right;\">\n",
       "      <th></th>\n",
       "      <th>PassengerId</th>\n",
       "      <th>Survived</th>\n",
       "      <th>Pclass</th>\n",
       "      <th>Name</th>\n",
       "      <th>Sex</th>\n",
       "      <th>Age</th>\n",
       "      <th>SibSp</th>\n",
       "      <th>Parch</th>\n",
       "      <th>Ticket</th>\n",
       "      <th>Fare</th>\n",
       "      <th>Cabin</th>\n",
       "      <th>Embarked</th>\n",
       "    </tr>\n",
       "  </thead>\n",
       "  <tbody>\n",
       "    <tr>\n",
       "      <th>0</th>\n",
       "      <td>1</td>\n",
       "      <td>0</td>\n",
       "      <td>3</td>\n",
       "      <td>Braund, Mr. Owen Harris</td>\n",
       "      <td>male</td>\n",
       "      <td>22.0</td>\n",
       "      <td>1</td>\n",
       "      <td>0</td>\n",
       "      <td>A/5 21171</td>\n",
       "      <td>7.2500</td>\n",
       "      <td>NaN</td>\n",
       "      <td>S</td>\n",
       "    </tr>\n",
       "    <tr>\n",
       "      <th>1</th>\n",
       "      <td>2</td>\n",
       "      <td>1</td>\n",
       "      <td>1</td>\n",
       "      <td>Cumings, Mrs. John Bradley (Florence Briggs Th...</td>\n",
       "      <td>female</td>\n",
       "      <td>38.0</td>\n",
       "      <td>1</td>\n",
       "      <td>0</td>\n",
       "      <td>PC 17599</td>\n",
       "      <td>71.2833</td>\n",
       "      <td>C85</td>\n",
       "      <td>C</td>\n",
       "    </tr>\n",
       "    <tr>\n",
       "      <th>2</th>\n",
       "      <td>3</td>\n",
       "      <td>1</td>\n",
       "      <td>3</td>\n",
       "      <td>Heikkinen, Miss. Laina</td>\n",
       "      <td>female</td>\n",
       "      <td>26.0</td>\n",
       "      <td>0</td>\n",
       "      <td>0</td>\n",
       "      <td>STON/O2. 3101282</td>\n",
       "      <td>7.9250</td>\n",
       "      <td>NaN</td>\n",
       "      <td>S</td>\n",
       "    </tr>\n",
       "    <tr>\n",
       "      <th>3</th>\n",
       "      <td>4</td>\n",
       "      <td>1</td>\n",
       "      <td>1</td>\n",
       "      <td>Futrelle, Mrs. Jacques Heath (Lily May Peel)</td>\n",
       "      <td>female</td>\n",
       "      <td>35.0</td>\n",
       "      <td>1</td>\n",
       "      <td>0</td>\n",
       "      <td>113803</td>\n",
       "      <td>53.1000</td>\n",
       "      <td>C123</td>\n",
       "      <td>S</td>\n",
       "    </tr>\n",
       "    <tr>\n",
       "      <th>4</th>\n",
       "      <td>5</td>\n",
       "      <td>0</td>\n",
       "      <td>3</td>\n",
       "      <td>Allen, Mr. William Henry</td>\n",
       "      <td>male</td>\n",
       "      <td>35.0</td>\n",
       "      <td>0</td>\n",
       "      <td>0</td>\n",
       "      <td>373450</td>\n",
       "      <td>8.0500</td>\n",
       "      <td>NaN</td>\n",
       "      <td>S</td>\n",
       "    </tr>\n",
       "    <tr>\n",
       "      <th>...</th>\n",
       "      <td>...</td>\n",
       "      <td>...</td>\n",
       "      <td>...</td>\n",
       "      <td>...</td>\n",
       "      <td>...</td>\n",
       "      <td>...</td>\n",
       "      <td>...</td>\n",
       "      <td>...</td>\n",
       "      <td>...</td>\n",
       "      <td>...</td>\n",
       "      <td>...</td>\n",
       "      <td>...</td>\n",
       "    </tr>\n",
       "    <tr>\n",
       "      <th>886</th>\n",
       "      <td>887</td>\n",
       "      <td>0</td>\n",
       "      <td>2</td>\n",
       "      <td>Montvila, Rev. Juozas</td>\n",
       "      <td>male</td>\n",
       "      <td>27.0</td>\n",
       "      <td>0</td>\n",
       "      <td>0</td>\n",
       "      <td>211536</td>\n",
       "      <td>13.0000</td>\n",
       "      <td>NaN</td>\n",
       "      <td>S</td>\n",
       "    </tr>\n",
       "    <tr>\n",
       "      <th>887</th>\n",
       "      <td>888</td>\n",
       "      <td>1</td>\n",
       "      <td>1</td>\n",
       "      <td>Graham, Miss. Margaret Edith</td>\n",
       "      <td>female</td>\n",
       "      <td>19.0</td>\n",
       "      <td>0</td>\n",
       "      <td>0</td>\n",
       "      <td>112053</td>\n",
       "      <td>30.0000</td>\n",
       "      <td>B42</td>\n",
       "      <td>S</td>\n",
       "    </tr>\n",
       "    <tr>\n",
       "      <th>888</th>\n",
       "      <td>889</td>\n",
       "      <td>0</td>\n",
       "      <td>3</td>\n",
       "      <td>Johnston, Miss. Catherine Helen \"Carrie\"</td>\n",
       "      <td>female</td>\n",
       "      <td>NaN</td>\n",
       "      <td>1</td>\n",
       "      <td>2</td>\n",
       "      <td>W./C. 6607</td>\n",
       "      <td>23.4500</td>\n",
       "      <td>NaN</td>\n",
       "      <td>S</td>\n",
       "    </tr>\n",
       "    <tr>\n",
       "      <th>889</th>\n",
       "      <td>890</td>\n",
       "      <td>1</td>\n",
       "      <td>1</td>\n",
       "      <td>Behr, Mr. Karl Howell</td>\n",
       "      <td>male</td>\n",
       "      <td>26.0</td>\n",
       "      <td>0</td>\n",
       "      <td>0</td>\n",
       "      <td>111369</td>\n",
       "      <td>30.0000</td>\n",
       "      <td>C148</td>\n",
       "      <td>C</td>\n",
       "    </tr>\n",
       "    <tr>\n",
       "      <th>890</th>\n",
       "      <td>891</td>\n",
       "      <td>0</td>\n",
       "      <td>3</td>\n",
       "      <td>Dooley, Mr. Patrick</td>\n",
       "      <td>male</td>\n",
       "      <td>32.0</td>\n",
       "      <td>0</td>\n",
       "      <td>0</td>\n",
       "      <td>370376</td>\n",
       "      <td>7.7500</td>\n",
       "      <td>NaN</td>\n",
       "      <td>Q</td>\n",
       "    </tr>\n",
       "  </tbody>\n",
       "</table>\n",
       "<p>891 rows × 12 columns</p>\n",
       "</div>"
      ],
      "text/plain": [
       "     PassengerId  Survived  Pclass  \\\n",
       "0              1         0       3   \n",
       "1              2         1       1   \n",
       "2              3         1       3   \n",
       "3              4         1       1   \n",
       "4              5         0       3   \n",
       "..           ...       ...     ...   \n",
       "886          887         0       2   \n",
       "887          888         1       1   \n",
       "888          889         0       3   \n",
       "889          890         1       1   \n",
       "890          891         0       3   \n",
       "\n",
       "                                                  Name     Sex   Age  SibSp  \\\n",
       "0                              Braund, Mr. Owen Harris    male  22.0      1   \n",
       "1    Cumings, Mrs. John Bradley (Florence Briggs Th...  female  38.0      1   \n",
       "2                               Heikkinen, Miss. Laina  female  26.0      0   \n",
       "3         Futrelle, Mrs. Jacques Heath (Lily May Peel)  female  35.0      1   \n",
       "4                             Allen, Mr. William Henry    male  35.0      0   \n",
       "..                                                 ...     ...   ...    ...   \n",
       "886                              Montvila, Rev. Juozas    male  27.0      0   \n",
       "887                       Graham, Miss. Margaret Edith  female  19.0      0   \n",
       "888           Johnston, Miss. Catherine Helen \"Carrie\"  female   NaN      1   \n",
       "889                              Behr, Mr. Karl Howell    male  26.0      0   \n",
       "890                                Dooley, Mr. Patrick    male  32.0      0   \n",
       "\n",
       "     Parch            Ticket     Fare Cabin Embarked  \n",
       "0        0         A/5 21171   7.2500   NaN        S  \n",
       "1        0          PC 17599  71.2833   C85        C  \n",
       "2        0  STON/O2. 3101282   7.9250   NaN        S  \n",
       "3        0            113803  53.1000  C123        S  \n",
       "4        0            373450   8.0500   NaN        S  \n",
       "..     ...               ...      ...   ...      ...  \n",
       "886      0            211536  13.0000   NaN        S  \n",
       "887      0            112053  30.0000   B42        S  \n",
       "888      2        W./C. 6607  23.4500   NaN        S  \n",
       "889      0            111369  30.0000  C148        C  \n",
       "890      0            370376   7.7500   NaN        Q  \n",
       "\n",
       "[891 rows x 12 columns]"
      ]
     },
     "execution_count": 3,
     "metadata": {},
     "output_type": "execute_result"
    }
   ],
   "source": [
    "train_data"
   ]
  },
  {
   "cell_type": "code",
   "execution_count": 4,
   "id": "8fddf451",
   "metadata": {
    "execution": {
     "iopub.execute_input": "2024-07-22T11:08:07.125018Z",
     "iopub.status.busy": "2024-07-22T11:08:07.124539Z",
     "iopub.status.idle": "2024-07-22T11:08:07.550998Z",
     "shell.execute_reply": "2024-07-22T11:08:07.549296Z"
    },
    "papermill": {
     "duration": 0.436754,
     "end_time": "2024-07-22T11:08:07.553102",
     "exception": true,
     "start_time": "2024-07-22T11:08:07.116348",
     "status": "failed"
    },
    "tags": []
   },
   "outputs": [
    {
     "ename": "NameError",
     "evalue": "name 'test_data' is not defined",
     "output_type": "error",
     "traceback": [
      "\u001b[0;31m---------------------------------------------------------------------------\u001b[0m",
      "\u001b[0;31mNameError\u001b[0m                                 Traceback (most recent call last)",
      "Cell \u001b[0;32mIn[4], line 1\u001b[0m\n\u001b[0;32m----> 1\u001b[0m \u001b[43mtest_data\u001b[49m\u001b[38;5;241m.\u001b[39mhead()\n",
      "\u001b[0;31mNameError\u001b[0m: name 'test_data' is not defined"
     ]
    }
   ],
   "source": [
    "test_data.head()"
   ]
  },
  {
   "cell_type": "code",
   "execution_count": null,
   "id": "6b25f0a4",
   "metadata": {
    "execution": {
     "iopub.execute_input": "2024-07-22T11:07:13.982182Z",
     "iopub.status.busy": "2024-07-22T11:07:13.981434Z",
     "iopub.status.idle": "2024-07-22T11:07:13.989905Z",
     "shell.execute_reply": "2024-07-22T11:07:13.988770Z",
     "shell.execute_reply.started": "2024-07-22T11:07:13.982139Z"
    },
    "papermill": {
     "duration": null,
     "end_time": null,
     "exception": null,
     "start_time": null,
     "status": "pending"
    },
    "tags": []
   },
   "outputs": [],
   "source": [
    "train_data.columns"
   ]
  },
  {
   "cell_type": "code",
   "execution_count": null,
   "id": "59200f1b",
   "metadata": {
    "execution": {
     "iopub.execute_input": "2024-07-22T11:07:13.991552Z",
     "iopub.status.busy": "2024-07-22T11:07:13.991189Z",
     "iopub.status.idle": "2024-07-22T11:07:14.002529Z",
     "shell.execute_reply": "2024-07-22T11:07:14.001536Z",
     "shell.execute_reply.started": "2024-07-22T11:07:13.991523Z"
    },
    "papermill": {
     "duration": null,
     "end_time": null,
     "exception": null,
     "start_time": null,
     "status": "pending"
    },
    "tags": []
   },
   "outputs": [],
   "source": [
    "from sklearn.model_selection import train_test_split\n",
    "\n",
    "#Choosing features\n",
    "features = ['Pclass', 'Sex', 'Age', 'SibSp', 'Parch', 'Fare', 'Embarked']\n",
    "\n",
    "#Checking missing values\n",
    "for i in features:\n",
    "    print(i, \" -> \", end=\"\")\n",
    "    print(f\"No. of NaN values: {train_data[i].isna().sum()}\")"
   ]
  },
  {
   "cell_type": "code",
   "execution_count": null,
   "id": "1a395bc1",
   "metadata": {
    "execution": {
     "iopub.execute_input": "2024-07-22T11:07:14.004478Z",
     "iopub.status.busy": "2024-07-22T11:07:14.004131Z",
     "iopub.status.idle": "2024-07-22T11:07:14.024873Z",
     "shell.execute_reply": "2024-07-22T11:07:14.023718Z",
     "shell.execute_reply.started": "2024-07-22T11:07:14.004451Z"
    },
    "papermill": {
     "duration": null,
     "end_time": null,
     "exception": null,
     "start_time": null,
     "status": "pending"
    },
    "tags": []
   },
   "outputs": [],
   "source": [
    "#Imputing the missing values\n",
    "train_data.dropna(subset=['Embarked'], inplace=True)\n",
    "train_data['Age'] = train_data.groupby(['Pclass', 'Sex'])['Age'].transform(lambda x: x.fillna(x.median()))\n",
    "# train_data['Age'] = train_data.groupby(['Pclass', 'Sex'])['Age'].apply(lambda x: x.fillna(x.median()))\n",
    "\n",
    "#Checking after imputation\n",
    "for i in features:\n",
    "    print(i, \" -> \", end=\"\")\n",
    "    print(f\"No. of NaN values: {train_data[i].isna().sum()}\")"
   ]
  },
  {
   "cell_type": "code",
   "execution_count": null,
   "id": "7579d26e",
   "metadata": {
    "execution": {
     "iopub.execute_input": "2024-07-22T11:07:14.027353Z",
     "iopub.status.busy": "2024-07-22T11:07:14.027005Z",
     "iopub.status.idle": "2024-07-22T11:07:14.039786Z",
     "shell.execute_reply": "2024-07-22T11:07:14.038716Z",
     "shell.execute_reply.started": "2024-07-22T11:07:14.027324Z"
    },
    "papermill": {
     "duration": null,
     "end_time": null,
     "exception": null,
     "start_time": null,
     "status": "pending"
    },
    "tags": []
   },
   "outputs": [],
   "source": [
    "#Splitting the data\n",
    "y = train_data.Survived\n",
    "#One-hot Encoding\n",
    "X = pd.get_dummies(train_data[features])\n",
    "\n",
    "X_train, X_val, y_train, y_val = train_test_split(X, y, train_size=0.8)"
   ]
  },
  {
   "cell_type": "code",
   "execution_count": null,
   "id": "3868cc0c",
   "metadata": {
    "execution": {
     "iopub.execute_input": "2024-07-22T11:07:14.041499Z",
     "iopub.status.busy": "2024-07-22T11:07:14.041150Z",
     "iopub.status.idle": "2024-07-22T11:07:14.048043Z",
     "shell.execute_reply": "2024-07-22T11:07:14.046931Z",
     "shell.execute_reply.started": "2024-07-22T11:07:14.041471Z"
    },
    "papermill": {
     "duration": null,
     "end_time": null,
     "exception": null,
     "start_time": null,
     "status": "pending"
    },
    "tags": []
   },
   "outputs": [],
   "source": [
    "arr = [X_train, X_val, y_train, y_val]\n",
    "for i in arr:\n",
    "    print(i.shape)"
   ]
  },
  {
   "cell_type": "code",
   "execution_count": null,
   "id": "bbfb32e9",
   "metadata": {
    "execution": {
     "iopub.execute_input": "2024-07-22T11:07:14.094566Z",
     "iopub.status.busy": "2024-07-22T11:07:14.094164Z",
     "iopub.status.idle": "2024-07-22T11:07:14.346846Z",
     "shell.execute_reply": "2024-07-22T11:07:14.345749Z",
     "shell.execute_reply.started": "2024-07-22T11:07:14.094534Z"
    },
    "papermill": {
     "duration": null,
     "end_time": null,
     "exception": null,
     "start_time": null,
     "status": "pending"
    },
    "tags": []
   },
   "outputs": [],
   "source": [
    "from sklearn.ensemble import RandomForestClassifier\n",
    "from sklearn.metrics import log_loss\n",
    "\n",
    "model = RandomForestClassifier(random_state = 42)\n",
    "model.fit(X_train, y_train)\n",
    "y_preds_prob = model.predict_proba(X_val)\n",
    "y_preds = model.predict(X_val)\n",
    "\n",
    "loss = log_loss(y_val, y_preds_prob)\n",
    "loss"
   ]
  },
  {
   "cell_type": "code",
   "execution_count": null,
   "id": "d2e09406",
   "metadata": {
    "execution": {
     "iopub.execute_input": "2024-07-22T11:07:14.349472Z",
     "iopub.status.busy": "2024-07-22T11:07:14.349040Z",
     "iopub.status.idle": "2024-07-22T11:07:14.357141Z",
     "shell.execute_reply": "2024-07-22T11:07:14.355846Z",
     "shell.execute_reply.started": "2024-07-22T11:07:14.349433Z"
    },
    "papermill": {
     "duration": null,
     "end_time": null,
     "exception": null,
     "start_time": null,
     "status": "pending"
    },
    "tags": []
   },
   "outputs": [],
   "source": [
    "np.sum(y_val - y_preds)"
   ]
  },
  {
   "cell_type": "code",
   "execution_count": null,
   "id": "77d10a53",
   "metadata": {
    "execution": {
     "iopub.execute_input": "2024-07-22T11:07:14.359823Z",
     "iopub.status.busy": "2024-07-22T11:07:14.358773Z",
     "iopub.status.idle": "2024-07-22T11:07:35.469836Z",
     "shell.execute_reply": "2024-07-22T11:07:35.468597Z",
     "shell.execute_reply.started": "2024-07-22T11:07:14.359791Z"
    },
    "papermill": {
     "duration": null,
     "end_time": null,
     "exception": null,
     "start_time": null,
     "status": "pending"
    },
    "tags": []
   },
   "outputs": [],
   "source": [
    "#Finetuning\n",
    "best_n_estimators = 0\n",
    "min_loss = float('inf')\n",
    "for i in range(50, 1000, 50):\n",
    "    temp = RandomForestClassifier(n_estimators=i, random_state = 42)\n",
    "    temp.fit(X_train, y_train)\n",
    "    y_preds_prob_temp = temp.predict_proba(X_val)\n",
    "    loss = log_loss(y_val, y_preds_prob_temp)\n",
    "    print(f\"n_estimators = {i}, mae = {loss}\")\n",
    "    if loss < min_loss:\n",
    "        min_loss = loss\n",
    "        best_n_estimators = i\n",
    "    \n",
    "print(f\"Best n_estimators = {best_n_estimators}, with log loss = {min_loss}\")"
   ]
  },
  {
   "cell_type": "code",
   "execution_count": null,
   "id": "cf5e023f",
   "metadata": {
    "execution": {
     "iopub.execute_input": "2024-07-22T11:07:35.471604Z",
     "iopub.status.busy": "2024-07-22T11:07:35.471197Z",
     "iopub.status.idle": "2024-07-22T11:07:37.544612Z",
     "shell.execute_reply": "2024-07-22T11:07:37.543548Z",
     "shell.execute_reply.started": "2024-07-22T11:07:35.471574Z"
    },
    "papermill": {
     "duration": null,
     "end_time": null,
     "exception": null,
     "start_time": null,
     "status": "pending"
    },
    "tags": []
   },
   "outputs": [],
   "source": [
    "#Training the data ont the entire dataset\n",
    "final_model = RandomForestClassifier(n_estimators = best_n_estimators, random_state = 42)\n",
    "final_model.fit(X, y)\n",
    "y_preds_prob = final_model.predict_proba(X_val)\n",
    "y_preds = final_model.predict(X_val)\n",
    "\n",
    "loss = log_loss(y_val, y_preds_prob)\n",
    "loss"
   ]
  },
  {
   "cell_type": "code",
   "execution_count": null,
   "id": "7974cfc7",
   "metadata": {
    "execution": {
     "iopub.execute_input": "2024-07-22T11:07:37.547404Z",
     "iopub.status.busy": "2024-07-22T11:07:37.547054Z",
     "iopub.status.idle": "2024-07-22T11:07:37.681931Z",
     "shell.execute_reply": "2024-07-22T11:07:37.680226Z",
     "shell.execute_reply.started": "2024-07-22T11:07:37.547374Z"
    },
    "papermill": {
     "duration": null,
     "end_time": null,
     "exception": null,
     "start_time": null,
     "status": "pending"
    },
    "tags": []
   },
   "outputs": [],
   "source": [
    "#Making final predictions\n",
    "test_data = pd.read_csv(\"/kaggle/input/titanic/test.csv\")\n",
    "\n",
    "#Checking for Missing data in test set\n",
    "print(\"Before imputation\")\n",
    "for i in features:\n",
    "    print(i, \" -> \", end=\"\")\n",
    "    print(f\"No. of NaN values: {test_data[i].isna().sum()}\")\n",
    "print(\"\")\n",
    "\n",
    "# #Imputing the test data\n",
    "test_data['Age'] = test_data.groupby(['Pclass', 'Sex'])['Age'].transform(lambda x: x.fillna(x.median()))\n",
    "test_data['Fare'].fillna(test_data['Fare'].median(), inplace=True)\n",
    "\n",
    "\n",
    "#Checking after imputation\n",
    "print(\"After imputation\")\n",
    "for i in features:\n",
    "    print(i, \" -> \", end=\"\")\n",
    "    print(f\"No. of NaN values: {test_data[i].isna().sum()}\")\n",
    "\n",
    "#Making data to make predictions on\n",
    "X_test = pd.get_dummies(test_data[features])\n",
    "X_test = X_test.reindex(columns=X_train.columns, fill_value=0)\n",
    "    \n",
    "#Final preds\n",
    "predictions = final_model.predict(X_test)"
   ]
  },
  {
   "cell_type": "code",
   "execution_count": null,
   "id": "2470ec7c",
   "metadata": {
    "execution": {
     "iopub.execute_input": "2024-07-22T11:07:37.684161Z",
     "iopub.status.busy": "2024-07-22T11:07:37.683796Z",
     "iopub.status.idle": "2024-07-22T11:07:37.701647Z",
     "shell.execute_reply": "2024-07-22T11:07:37.700559Z",
     "shell.execute_reply.started": "2024-07-22T11:07:37.684131Z"
    },
    "papermill": {
     "duration": null,
     "end_time": null,
     "exception": null,
     "start_time": null,
     "status": "pending"
    },
    "tags": []
   },
   "outputs": [],
   "source": [
    "#Submission\n",
    "# output = pd.DataFrame({'PassengerId': test_data.PassengerId, 'Survived': predictions})\n",
    "# output.to_csv('submission.csv', index=False)\n",
    "\n",
    "output = pd.DataFrame({'PassengerId': test_data.PassengerId, 'Survived': predictions})\n",
    "output.to_csv('submission.csv', index=False)\n",
    "\n",
    "pd.read_csv('submission.csv')"
   ]
  },
  {
   "cell_type": "code",
   "execution_count": null,
   "id": "49168a45",
   "metadata": {
    "papermill": {
     "duration": null,
     "end_time": null,
     "exception": null,
     "start_time": null,
     "status": "pending"
    },
    "tags": []
   },
   "outputs": [],
   "source": []
  }
 ],
 "metadata": {
  "kaggle": {
   "accelerator": "none",
   "dataSources": [
    {
     "databundleVersionId": 26502,
     "sourceId": 3136,
     "sourceType": "competition"
    }
   ],
   "dockerImageVersionId": 30746,
   "isGpuEnabled": false,
   "isInternetEnabled": true,
   "language": "python",
   "sourceType": "notebook"
  },
  "kernelspec": {
   "display_name": "Python 3",
   "language": "python",
   "name": "python3"
  },
  "language_info": {
   "codemirror_mode": {
    "name": "ipython",
    "version": 3
   },
   "file_extension": ".py",
   "mimetype": "text/x-python",
   "name": "python",
   "nbconvert_exporter": "python",
   "pygments_lexer": "ipython3",
   "version": "3.10.13"
  },
  "papermill": {
   "default_parameters": {},
   "duration": 5.803368,
   "end_time": "2024-07-22T11:08:08.081645",
   "environment_variables": {},
   "exception": true,
   "input_path": "__notebook__.ipynb",
   "output_path": "__notebook__.ipynb",
   "parameters": {},
   "start_time": "2024-07-22T11:08:02.278277",
   "version": "2.5.0"
  }
 },
 "nbformat": 4,
 "nbformat_minor": 5
}
